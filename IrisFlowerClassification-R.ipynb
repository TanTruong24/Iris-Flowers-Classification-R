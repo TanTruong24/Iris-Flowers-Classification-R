{
 "cells": [
  {
   "cell_type": "raw",
   "id": "34a4f81a",
   "metadata": {
    "lines_to_next_cell": 0
   },
   "source": [
    "---\n",
    "title: \"CS313-Demo sử dụng R và Triển khai một số thuật toán\"\n",
    "author: \"Nhóm A2\"\n",
    "date: \"3/19/2022\"\n",
    "output: html_document\n",
    "---"
   ]
  },
  {
   "cell_type": "code",
   "execution_count": 32,
   "id": "26af82e7",
   "metadata": {
    "name": "setup",
    "tags": [
     "remove_cell"
    ]
   },
   "outputs": [],
   "source": [
    "#knitr::opts_chunk$set(echo = TRUE)"
   ]
  },
  {
   "cell_type": "markdown",
   "id": "b4cdaa62",
   "metadata": {
    "lines_to_next_cell": 0
   },
   "source": [
    "# 1. Cài đặt các gói cần thiết"
   ]
  },
  {
   "cell_type": "code",
   "execution_count": 33,
   "id": "7d098705",
   "metadata": {
    "message": false,
    "warning": false
   },
   "outputs": [
    {
     "data": {
      "text/html": [
       "<ol>\n",
       "\t<li>TRUE</li>\n",
       "\t<li>TRUE</li>\n",
       "\t<li>TRUE</li>\n",
       "\t<li>TRUE</li>\n",
       "\t<li>TRUE</li>\n",
       "\t<li>TRUE</li>\n",
       "\t<li>TRUE</li>\n",
       "</ol>\n"
      ],
      "text/latex": [
       "\\begin{enumerate}\n",
       "\\item TRUE\n",
       "\\item TRUE\n",
       "\\item TRUE\n",
       "\\item TRUE\n",
       "\\item TRUE\n",
       "\\item TRUE\n",
       "\\item TRUE\n",
       "\\end{enumerate}\n"
      ],
      "text/markdown": [
       "1. TRUE\n",
       "2. TRUE\n",
       "3. TRUE\n",
       "4. TRUE\n",
       "5. TRUE\n",
       "6. TRUE\n",
       "7. TRUE\n",
       "\n",
       "\n"
      ],
      "text/plain": [
       "[[1]]\n",
       "[1] TRUE\n",
       "\n",
       "[[2]]\n",
       "[1] TRUE\n",
       "\n",
       "[[3]]\n",
       "[1] TRUE\n",
       "\n",
       "[[4]]\n",
       "[1] TRUE\n",
       "\n",
       "[[5]]\n",
       "[1] TRUE\n",
       "\n",
       "[[6]]\n",
       "[1] TRUE\n",
       "\n",
       "[[7]]\n",
       "[1] TRUE\n"
      ]
     },
     "metadata": {},
     "output_type": "display_data"
    }
   ],
   "source": [
    "# List of packages for session\n",
    ".packages = c(\"randomForest\", \"e1071\", \"ggplot2\", \"klaR\", \"xgboost\", \"magrittr\", \"dplyr\")\n",
    "\n",
    "# Install CRAN packages (if not already installed)\n",
    ".inst <- .packages %in% installed.packages()\n",
    "if(length(.packages[!.inst]) > 0) install.packages(.packages[!.inst], repos = \"https://cran.rstudio.com\")\n",
    "\n",
    "# Load packages into session \n",
    "lapply(.packages, require, character.only=TRUE)\n",
    "\n",
    "library(caret)\n",
    "library(randomForest)\n",
    "library(e1071)\n",
    "library(klaR)\n",
    "library(xgboost)\n",
    "library(dplyr)\n",
    "library(magrittr)"
   ]
  },
  {
   "cell_type": "markdown",
   "id": "7b55ded0",
   "metadata": {
    "lines_to_next_cell": 0
   },
   "source": [
    "# 2 .Tải data\n",
    "\n",
    "Sử dụng tập dữ liệu iris để thực hiện bài toán phân loại với các thuật toán được đề cập trong bài báo cáo."
   ]
  },
  {
   "cell_type": "code",
   "execution_count": 34,
   "id": "a9563855",
   "metadata": {
    "lines_to_next_cell": 2
   },
   "outputs": [
    {
     "name": "stderr",
     "output_type": "stream",
     "text": [
      "Your code contains a unicode char which cannot be displayed in your\n",
      "current locale and R will silently convert it to an escaped form when the\n",
      "R kernel executes this code. This can lead to subtle errors if you use\n",
      "such chars to do comparisons. For more information, please see\n",
      "https://github.com/IRkernel/repr/wiki/Problems-with-unicode-on-windows"
     ]
    }
   ],
   "source": [
    "# đính kèm tập dữ liệu iris từ môi trường\n",
    "data(iris)\n",
    "# đổi tên dataset\n",
    "dataset <- iris"
   ]
  },
  {
   "cell_type": "markdown",
   "id": "bcac0b81",
   "metadata": {},
   "source": [
    "## 2.1. Tạo tập dữ liệu Validation\n",
    "\n",
    "Ở đây, chúng ta sẽ chia tập dữ liệu thành 2 phần là: \\\n",
    "\n",
    "+ 80% dữ liệu training mô hình \\\n",
    "+ 20% dữ liệu validation để phục vụ việc đánh giá mô hình"
   ]
  },
  {
   "cell_type": "code",
   "execution_count": 35,
   "id": "f6cbd8f3",
   "metadata": {},
   "outputs": [
    {
     "name": "stderr",
     "output_type": "stream",
     "text": [
      "Your code contains a unicode char which cannot be displayed in your\n",
      "current locale and R will silently convert it to an escaped form when the\n",
      "R kernel executes this code. This can lead to subtle errors if you use\n",
      "such chars to do comparisons. For more information, please see\n",
      "https://github.com/IRkernel/repr/wiki/Problems-with-unicode-on-windows"
     ]
    }
   ],
   "source": [
    "# tạo danh sách 80% các hàng trong tập dữ liệu ban để training  \n",
    "validation_index <- createDataPartition(dataset$Species, p=0.80, list=FALSE)\n",
    "\n",
    "# Chọn 20% dữ liệu cho tâp validation\n",
    "validation <- dataset[-validation_index,]\n",
    "\n",
    "# sử dụng 80% dữ liệu cho training và testing\n",
    "training <- dataset[validation_index,]"
   ]
  },
  {
   "cell_type": "markdown",
   "id": "87d2f052",
   "metadata": {
    "lines_to_next_cell": 0
   },
   "source": [
    "# 3. Tóm tắt Dataset\n",
    "Trong bước này, chúng ta sẽ xem xét dữ liệu theo một số cách khác nhau: \\\n",
    "\n",
    "+ Kích thước của tập dữ liệu.\\\n",
    "+ Các loại thuộc tính.\\\n",
    "+ Nhìn vào chính dữ liệu.\\\n",
    "+ Các cấp độ của thuộc tính lớp.\\\n",
    "+ Phân tích các cá thể trong mỗi lớp.\\\n",
    "+ Tóm tắt thống kê của tất cả các thuộc tính.\n",
    "\n",
    "## 3.1. Kích thước của dữ liệu"
   ]
  },
  {
   "cell_type": "code",
   "execution_count": 36,
   "id": "5ea57a22",
   "metadata": {
    "lines_to_next_cell": 0
   },
   "outputs": [
    {
     "data": {
      "text/html": [
       "<style>\n",
       ".list-inline {list-style: none; margin:0; padding: 0}\n",
       ".list-inline>li {display: inline-block}\n",
       ".list-inline>li:not(:last-child)::after {content: \"\\00b7\"; padding: 0 .5ex}\n",
       "</style>\n",
       "<ol class=list-inline><li>120</li><li>5</li></ol>\n"
      ],
      "text/latex": [
       "\\begin{enumerate*}\n",
       "\\item 120\n",
       "\\item 5\n",
       "\\end{enumerate*}\n"
      ],
      "text/markdown": [
       "1. 120\n",
       "2. 5\n",
       "\n",
       "\n"
      ],
      "text/plain": [
       "[1] 120   5"
      ]
     },
     "metadata": {},
     "output_type": "display_data"
    }
   ],
   "source": [
    "dim(training)"
   ]
  },
  {
   "cell_type": "markdown",
   "id": "1678c3fb",
   "metadata": {
    "lines_to_next_cell": 0
   },
   "source": [
    "Có 120 record (hàng) và 5 thuộc tính (cột)\n",
    "\n",
    "## 3.2. Các loại của thuộc tính"
   ]
  },
  {
   "cell_type": "code",
   "execution_count": 37,
   "id": "3eefab1d",
   "metadata": {},
   "outputs": [
    {
     "data": {
      "text/html": [
       "<style>\n",
       ".dl-inline {width: auto; margin:0; padding: 0}\n",
       ".dl-inline>dt, .dl-inline>dd {float: none; width: auto; display: inline-block}\n",
       ".dl-inline>dt::after {content: \":\\0020\"; padding-right: .5ex}\n",
       ".dl-inline>dt:not(:first-of-type) {padding-left: .5ex}\n",
       "</style><dl class=dl-inline><dt>Sepal.Length</dt><dd>'numeric'</dd><dt>Sepal.Width</dt><dd>'numeric'</dd><dt>Petal.Length</dt><dd>'numeric'</dd><dt>Petal.Width</dt><dd>'numeric'</dd><dt>Species</dt><dd>'factor'</dd></dl>\n"
      ],
      "text/latex": [
       "\\begin{description*}\n",
       "\\item[Sepal.Length] 'numeric'\n",
       "\\item[Sepal.Width] 'numeric'\n",
       "\\item[Petal.Length] 'numeric'\n",
       "\\item[Petal.Width] 'numeric'\n",
       "\\item[Species] 'factor'\n",
       "\\end{description*}\n"
      ],
      "text/markdown": [
       "Sepal.Length\n",
       ":   'numeric'Sepal.Width\n",
       ":   'numeric'Petal.Length\n",
       ":   'numeric'Petal.Width\n",
       ":   'numeric'Species\n",
       ":   'factor'\n",
       "\n"
      ],
      "text/plain": [
       "Sepal.Length  Sepal.Width Petal.Length  Petal.Width      Species \n",
       "   \"numeric\"    \"numeric\"    \"numeric\"    \"numeric\"     \"factor\" "
      ]
     },
     "metadata": {},
     "output_type": "display_data"
    }
   ],
   "source": [
    "# list types for each attribute\n",
    "sapply(training, class)"
   ]
  },
  {
   "cell_type": "markdown",
   "id": "6761e85f",
   "metadata": {},
   "source": [
    "## 3.4. Xem qua dữ liệu\n",
    "\n",
    "5 hàng đầu tiên của dữ liệu"
   ]
  },
  {
   "cell_type": "code",
   "execution_count": 38,
   "id": "8a8e3ecc",
   "metadata": {},
   "outputs": [
    {
     "name": "stderr",
     "output_type": "stream",
     "text": [
      "Your code contains a unicode char which cannot be displayed in your\n",
      "current locale and R will silently convert it to an escaped form when the\n",
      "R kernel executes this code. This can lead to subtle errors if you use\n",
      "such chars to do comparisons. For more information, please see\n",
      "https://github.com/IRkernel/repr/wiki/Problems-with-unicode-on-windows"
     ]
    },
    {
     "data": {
      "text/html": [
       "<table class=\"dataframe\">\n",
       "<caption>A data.frame: 6 × 5</caption>\n",
       "<thead>\n",
       "\t<tr><th></th><th scope=col>Sepal.Length</th><th scope=col>Sepal.Width</th><th scope=col>Petal.Length</th><th scope=col>Petal.Width</th><th scope=col>Species</th></tr>\n",
       "\t<tr><th></th><th scope=col>&lt;dbl&gt;</th><th scope=col>&lt;dbl&gt;</th><th scope=col>&lt;dbl&gt;</th><th scope=col>&lt;dbl&gt;</th><th scope=col>&lt;fct&gt;</th></tr>\n",
       "</thead>\n",
       "<tbody>\n",
       "\t<tr><th scope=row>1</th><td>5.1</td><td>3.5</td><td>1.4</td><td>0.2</td><td>setosa</td></tr>\n",
       "\t<tr><th scope=row>2</th><td>4.9</td><td>3.0</td><td>1.4</td><td>0.2</td><td>setosa</td></tr>\n",
       "\t<tr><th scope=row>5</th><td>5.0</td><td>3.6</td><td>1.4</td><td>0.2</td><td>setosa</td></tr>\n",
       "\t<tr><th scope=row>6</th><td>5.4</td><td>3.9</td><td>1.7</td><td>0.4</td><td>setosa</td></tr>\n",
       "\t<tr><th scope=row>7</th><td>4.6</td><td>3.4</td><td>1.4</td><td>0.3</td><td>setosa</td></tr>\n",
       "\t<tr><th scope=row>8</th><td>5.0</td><td>3.4</td><td>1.5</td><td>0.2</td><td>setosa</td></tr>\n",
       "</tbody>\n",
       "</table>\n"
      ],
      "text/latex": [
       "A data.frame: 6 × 5\n",
       "\\begin{tabular}{r|lllll}\n",
       "  & Sepal.Length & Sepal.Width & Petal.Length & Petal.Width & Species\\\\\n",
       "  & <dbl> & <dbl> & <dbl> & <dbl> & <fct>\\\\\n",
       "\\hline\n",
       "\t1 & 5.1 & 3.5 & 1.4 & 0.2 & setosa\\\\\n",
       "\t2 & 4.9 & 3.0 & 1.4 & 0.2 & setosa\\\\\n",
       "\t5 & 5.0 & 3.6 & 1.4 & 0.2 & setosa\\\\\n",
       "\t6 & 5.4 & 3.9 & 1.7 & 0.4 & setosa\\\\\n",
       "\t7 & 4.6 & 3.4 & 1.4 & 0.3 & setosa\\\\\n",
       "\t8 & 5.0 & 3.4 & 1.5 & 0.2 & setosa\\\\\n",
       "\\end{tabular}\n"
      ],
      "text/markdown": [
       "\n",
       "A data.frame: 6 × 5\n",
       "\n",
       "| <!--/--> | Sepal.Length &lt;dbl&gt; | Sepal.Width &lt;dbl&gt; | Petal.Length &lt;dbl&gt; | Petal.Width &lt;dbl&gt; | Species &lt;fct&gt; |\n",
       "|---|---|---|---|---|---|\n",
       "| 1 | 5.1 | 3.5 | 1.4 | 0.2 | setosa |\n",
       "| 2 | 4.9 | 3.0 | 1.4 | 0.2 | setosa |\n",
       "| 5 | 5.0 | 3.6 | 1.4 | 0.2 | setosa |\n",
       "| 6 | 5.4 | 3.9 | 1.7 | 0.4 | setosa |\n",
       "| 7 | 4.6 | 3.4 | 1.4 | 0.3 | setosa |\n",
       "| 8 | 5.0 | 3.4 | 1.5 | 0.2 | setosa |\n",
       "\n"
      ],
      "text/plain": [
       "  Sepal.Length Sepal.Width Petal.Length Petal.Width Species\n",
       "1 5.1          3.5         1.4          0.2         setosa \n",
       "2 4.9          3.0         1.4          0.2         setosa \n",
       "5 5.0          3.6         1.4          0.2         setosa \n",
       "6 5.4          3.9         1.7          0.4         setosa \n",
       "7 4.6          3.4         1.4          0.3         setosa \n",
       "8 5.0          3.4         1.5          0.2         setosa "
      ]
     },
     "metadata": {},
     "output_type": "display_data"
    }
   ],
   "source": [
    "# xem qua 5 hàng đầu tiên của dữ liệu\n",
    "head(training)"
   ]
  },
  {
   "cell_type": "markdown",
   "id": "767723c5",
   "metadata": {
    "lines_to_next_cell": 0
   },
   "source": [
    "## 3.5. Các cấp độ của Class"
   ]
  },
  {
   "cell_type": "code",
   "execution_count": 39,
   "id": "aa9cdf7d",
   "metadata": {
    "lines_to_next_cell": 0
   },
   "outputs": [
    {
     "name": "stderr",
     "output_type": "stream",
     "text": [
      "Your code contains a unicode char which cannot be displayed in your\n",
      "current locale and R will silently convert it to an escaped form when the\n",
      "R kernel executes this code. This can lead to subtle errors if you use\n",
      "such chars to do comparisons. For more information, please see\n",
      "https://github.com/IRkernel/repr/wiki/Problems-with-unicode-on-windows"
     ]
    },
    {
     "data": {
      "text/html": [
       "<style>\n",
       ".list-inline {list-style: none; margin:0; padding: 0}\n",
       ".list-inline>li {display: inline-block}\n",
       ".list-inline>li:not(:last-child)::after {content: \"\\00b7\"; padding: 0 .5ex}\n",
       "</style>\n",
       "<ol class=list-inline><li>'setosa'</li><li>'versicolor'</li><li>'virginica'</li></ol>\n"
      ],
      "text/latex": [
       "\\begin{enumerate*}\n",
       "\\item 'setosa'\n",
       "\\item 'versicolor'\n",
       "\\item 'virginica'\n",
       "\\end{enumerate*}\n"
      ],
      "text/markdown": [
       "1. 'setosa'\n",
       "2. 'versicolor'\n",
       "3. 'virginica'\n",
       "\n",
       "\n"
      ],
      "text/plain": [
       "[1] \"setosa\"     \"versicolor\" \"virginica\" "
      ]
     },
     "metadata": {},
     "output_type": "display_data"
    }
   ],
   "source": [
    "# danh sách các lớp\n",
    "levels(training$Species)"
   ]
  },
  {
   "cell_type": "markdown",
   "id": "1582e29e",
   "metadata": {
    "lines_to_next_cell": 0
   },
   "source": [
    "Như ta thấy, ta có 3 lớp trong tập dữ liệu Iris này\n",
    "\n",
    "## 3.6. Phân phối dữ liệu theo lớp"
   ]
  },
  {
   "cell_type": "code",
   "execution_count": 40,
   "id": "fa9f8a3a",
   "metadata": {
    "lines_to_next_cell": 0
   },
   "outputs": [
    {
     "name": "stderr",
     "output_type": "stream",
     "text": [
      "Your code contains a unicode char which cannot be displayed in your\n",
      "current locale and R will silently convert it to an escaped form when the\n",
      "R kernel executes this code. This can lead to subtle errors if you use\n",
      "such chars to do comparisons. For more information, please see\n",
      "https://github.com/IRkernel/repr/wiki/Problems-with-unicode-on-windows"
     ]
    },
    {
     "data": {
      "text/html": [
       "<table class=\"dataframe\">\n",
       "<caption>A matrix: 3 × 2 of type dbl</caption>\n",
       "<thead>\n",
       "\t<tr><th></th><th scope=col>freq</th><th scope=col>percentage</th></tr>\n",
       "</thead>\n",
       "<tbody>\n",
       "\t<tr><th scope=row>setosa</th><td>40</td><td>33.33333</td></tr>\n",
       "\t<tr><th scope=row>versicolor</th><td>40</td><td>33.33333</td></tr>\n",
       "\t<tr><th scope=row>virginica</th><td>40</td><td>33.33333</td></tr>\n",
       "</tbody>\n",
       "</table>\n"
      ],
      "text/latex": [
       "A matrix: 3 × 2 of type dbl\n",
       "\\begin{tabular}{r|ll}\n",
       "  & freq & percentage\\\\\n",
       "\\hline\n",
       "\tsetosa & 40 & 33.33333\\\\\n",
       "\tversicolor & 40 & 33.33333\\\\\n",
       "\tvirginica & 40 & 33.33333\\\\\n",
       "\\end{tabular}\n"
      ],
      "text/markdown": [
       "\n",
       "A matrix: 3 × 2 of type dbl\n",
       "\n",
       "| <!--/--> | freq | percentage |\n",
       "|---|---|---|\n",
       "| setosa | 40 | 33.33333 |\n",
       "| versicolor | 40 | 33.33333 |\n",
       "| virginica | 40 | 33.33333 |\n",
       "\n"
      ],
      "text/plain": [
       "           freq percentage\n",
       "setosa     40   33.33333  \n",
       "versicolor 40   33.33333  \n",
       "virginica  40   33.33333  "
      ]
     },
     "metadata": {},
     "output_type": "display_data"
    }
   ],
   "source": [
    "\n",
    "# Tối tắt phân phối dữ liệu theo lớp\n",
    "percentage <- prop.table(table(training$Species)) * 100\n",
    "cbind(freq=table(training$Species), percentage=percentage)"
   ]
  },
  {
   "cell_type": "markdown",
   "id": "a9216efd",
   "metadata": {
    "lines_to_next_cell": 0
   },
   "source": [
    "Chúng ta có thể thấy rằng mỗi lớp có cùng số lượng các trường hợp (40 hoặc 33% tập dữ liệu)\n",
    "\n",
    "## 3.7. Thống kế tóm tắt\n",
    "Bây giờ cuối cùng, chúng ta có thể xem qua bản tóm tắt của từng thuộc tính.\\ \n",
    "\n",
    "Điều này bao gồm giá trị trung bình, giá trị tối thiểu và tối đa cũng như một số phân vị phần trăm (giá trị thứ 25, 50 hoặc phương tiện và 75, ví dụ: tại các điểm này nếu chúng ta đã sắp xếp tất cả các giá trị cho một thuộc tính)."
   ]
  },
  {
   "cell_type": "code",
   "execution_count": 41,
   "id": "ddc700dd",
   "metadata": {
    "lines_to_next_cell": 0
   },
   "outputs": [
    {
     "data": {
      "text/plain": [
       "  Sepal.Length    Sepal.Width    Petal.Length    Petal.Width          Species  \n",
       " Min.   :4.300   Min.   :2.00   Min.   :1.000   Min.   :0.100   setosa    :40  \n",
       " 1st Qu.:5.100   1st Qu.:2.80   1st Qu.:1.575   1st Qu.:0.300   versicolor:40  \n",
       " Median :5.800   Median :3.00   Median :4.400   Median :1.350   virginica :40  \n",
       " Mean   :5.846   Mean   :3.07   Mean   :3.773   Mean   :1.212                  \n",
       " 3rd Qu.:6.400   3rd Qu.:3.40   3rd Qu.:5.100   3rd Qu.:1.800                  \n",
       " Max.   :7.900   Max.   :4.40   Max.   :6.900   Max.   :2.500                  "
      ]
     },
     "metadata": {},
     "output_type": "display_data"
    }
   ],
   "source": [
    "# summarize attribute distributions\n",
    "summary(training)"
   ]
  },
  {
   "cell_type": "markdown",
   "id": "a2b141d1",
   "metadata": {
    "lines_to_next_cell": 0
   },
   "source": [
    "Chúng ta có thể thấy rằng tất cả các giá trị số có cùng tỷ lệ (cm) và phạm vi tương tự [0,8] cm.\n",
    "\n",
    "# 4. Trực quan tập dữ liệu\n",
    "\n",
    "Chúng ta sẽ xem xét dữ liệu bằng hai loại biểu đồ:\\\n",
    "\n",
    "1. Biểu đồ đơn biến để hiểu rõ hơn về từng thuộc tính\\\n",
    "2. Biểu đồ đa biến để hiểu rõ hơn về mối quan hệ của các thuộc tính với nhau.\n",
    "\n",
    "## 4.1. Biểu đồ đơn biến"
   ]
  },
  {
   "cell_type": "code",
   "execution_count": 42,
   "id": "460f3b05",
   "metadata": {},
   "outputs": [
    {
     "name": "stderr",
     "output_type": "stream",
     "text": [
      "Your code contains a unicode char which cannot be displayed in your\n",
      "current locale and R will silently convert it to an escaped form when the\n",
      "R kernel executes this code. This can lead to subtle errors if you use\n",
      "such chars to do comparisons. For more information, please see\n",
      "https://github.com/IRkernel/repr/wiki/Problems-with-unicode-on-windows"
     ]
    }
   ],
   "source": [
    "# chia đầu vào và đầu ra tập train\n",
    "x <- training[,1:4]\n",
    "y <- training[,5]\n",
    "\n",
    "# chia đầu vào và đầu ra tập validation\n",
    "x_val <- validation[,1:4]\n",
    "y_val <- validation[,5]"
   ]
  },
  {
   "cell_type": "code",
   "execution_count": 43,
   "id": "a3f96a62",
   "metadata": {},
   "outputs": [
    {
     "data": {
      "image/png": "[encoded data removed]",
      "text/plain": [
       "Plot with title \"Petal.Width\""
      ]
     },
     "metadata": {
      "image/png": {
       "height": 420,
       "width": 420
      }
     },
     "output_type": "display_data"
    }
   ],
   "source": [
    "par(mfrow=c(1,4))\n",
    "  for(i in 1:4) {\n",
    "  boxplot(x[,i], main=names(iris)[i])\n",
    "}"
   ]
  },
  {
   "cell_type": "markdown",
   "id": "7a265825",
   "metadata": {
    "lines_to_next_cell": 0
   },
   "source": [
    "## 4.2. Biểu đồ đa biến\n",
    "\n",
    "<!-- # ```{r} -->\n",
    "<!-- # install.packages(\"ellipse\") -->\n",
    "<!-- # ``` -->\n",
    "\n",
    "Đầu tiên, hãy xem biểu đồ phân tán của tất cả các cặp thuộc tính và tô màu các điểm theo lớp. Ngoài ra, bởi vì biểu đồ phân tán cho thấy rằng các điểm cho mỗi lớp nói chung là riêng biệt, chúng ta có thể vẽ các hình elip xung quanh chúng."
   ]
  },
  {
   "cell_type": "code",
   "execution_count": 44,
   "id": "cc273412",
   "metadata": {
    "lines_to_next_cell": 0
   },
   "outputs": [
    {
     "name": "stderr",
     "output_type": "stream",
     "text": [
      "Your code contains a unicode char which cannot be displayed in your\n",
      "current locale and R will silently convert it to an escaped form when the\n",
      "R kernel executes this code. This can lead to subtle errors if you use\n",
      "such chars to do comparisons. For more information, please see\n",
      "https://github.com/IRkernel/repr/wiki/Problems-with-unicode-on-windows"
     ]
    },
    {
     "data": {
      "image/png": "[encoded data removed]",
      "text/plain": [
       "plot without title"
      ]
     },
     "metadata": {
      "image/png": {
       "height": 420,
       "width": 420
      }
     },
     "output_type": "display_data"
    }
   ],
   "source": [
    "# ma trận biểu đồ phân tán\n",
    "featurePlot(x=x, y=y, plot=\"ellipse\")"
   ]
  },
  {
   "cell_type": "markdown",
   "id": "913f1102",
   "metadata": {},
   "source": [
    "Chúng ta có thể thấy một số mối quan hệ rõ ràng giữa các thuộc tính đầu vào (xu hướng) và giữa các thuộc tính và giá trị lớp (dấu chấm lửng)\n",
    "\n",
    "Chúng ta cũng có thể xem xét lại các ô hình hộp và ô râu của từng biến đầu vào, nhưng lần này được chia thành các ô riêng biệt cho từng lớp. Điều này có thể giúp tạo ra sự phân cách tuyến tính rõ ràng giữa các lớp.\n",
    "\\Điều này rất hữu ích để thấy rằng có sự phân phối rõ ràng khác nhau của các thuộc tính cho mỗi giá trị lớp.        "
   ]
  },
  {
   "cell_type": "code",
   "execution_count": 45,
   "id": "79c29ee1",
   "metadata": {},
   "outputs": [
    {
     "name": "stderr",
     "output_type": "stream",
     "text": [
      "Your code contains a unicode char which cannot be displayed in your\n",
      "current locale and R will silently convert it to an escaped form when the\n",
      "R kernel executes this code. This can lead to subtle errors if you use\n",
      "such chars to do comparisons. For more information, please see\n",
      "https://github.com/IRkernel/repr/wiki/Problems-with-unicode-on-windows"
     ]
    },
    {
     "data": {
      "image/png": "[encoded data removed]",
      "text/plain": [
       "plot without title"
      ]
     },
     "metadata": {
      "image/png": {
       "height": 420,
       "width": 420
      }
     },
     "output_type": "display_data"
    }
   ],
   "source": [
    "# đồ thị hộp và whisker cho mỗi thuộc tính\n",
    "featurePlot(x=x, y=y, plot=\"box\")"
   ]
  },
  {
   "cell_type": "markdown",
   "id": "82d89c6f",
   "metadata": {
    "lines_to_next_cell": 0
   },
   "source": [
    "Tiếp theo, chúng ta có thể có được ý tưởng về sự phân bố của từng thuộc tính, một lần nữa giống như đồ thị hộp và whisker, được chia nhỏ theo giá trị lớp. Đôi khi biểu đồ là tốt cho điều này, nhưng trong trường hợp này, chúng tôi sẽ sử dụng một số biểu đồ mật độ xác suất để cung cấp các đường trơn đẹp cho mỗi phân phối."
   ]
  },
  {
   "cell_type": "code",
   "execution_count": 46,
   "id": "7cac5f75",
   "metadata": {
    "lines_to_next_cell": 0
   },
   "outputs": [
    {
     "name": "stderr",
     "output_type": "stream",
     "text": [
      "Your code contains a unicode char which cannot be displayed in your\n",
      "current locale and R will silently convert it to an escaped form when the\n",
      "R kernel executes this code. This can lead to subtle errors if you use\n",
      "such chars to do comparisons. For more information, please see\n",
      "https://github.com/IRkernel/repr/wiki/Problems-with-unicode-on-windows"
     ]
    },
    {
     "data": {
      "image/png": "[encoded data removed]",
      "text/plain": [
       "plot without title"
      ]
     },
     "metadata": {
      "image/png": {
       "height": 420,
       "width": 420
      }
     },
     "output_type": "display_data"
    }
   ],
   "source": [
    "\n",
    "# đồ thị mật độ cho từng thuộc tính theo giá trị lớp\n",
    "scales <- list(x=list(relation=\"free\"), y=list(relation=\"free\"))\n",
    "featurePlot(x=x, y=y, plot=\"density\", scales=scales)"
   ]
  },
  {
   "cell_type": "markdown",
   "id": "4ef0e2f2",
   "metadata": {},
   "source": [
    "Giống như các ô hộp, chúng ta có thể thấy sự khác biệt trong phân phối của từng thuộc tính theo giá trị lớp. Chúng ta cũng có thể thấy sự phân bố giống như Gaussian (đường cong hình chuông) của mỗi thuộc tính\n",
    "\n",
    "# 5. Đánh giá một số thuật toán\n",
    "\n",
    "Bây giờ đã đến lúc tạo một số mô hình dữ liệu các thuật toán được trình bày trong báo cáo và ước tính độ chính xác của chúng trên dữ liệu validation\n",
    "\n",
    "Đây là những gì chúng ta sẽ đề cập trong bước này:\n",
    "\n",
    "1. Thiết lập dây kiểm tra để sử dụng xác nhận chéo 10 lần.\n",
    "2. Xây dựng 5 mô hình khác nhau để dự đoán các loài từ các phép đo hoa\n",
    "3. Chọn mô hình tốt nhất.\n",
    "\n",
    "## 5.1. Cài đặt thử nghiệm\n",
    "\n",
    "Chúng ta sẽ xác thực chéo 10 lần để ước tính độ chính xác.\n",
    "\n",
    "Điều này sẽ chia bộ dữ liệu của chúng tôi thành 10 phần, đào tạo trong 9 và kiểm tra trên 1 và phát hành cho tất cả các kết hợp phân tách kiểm tra đào tạo. Chúng tôi cũng sẽ lặp lại quy trình này 3 lần cho mỗi thuật toán với các phần dữ liệu khác nhau được chia thành 10 nhóm, nhằm cố gắng có được ước tính chính xác hơn."
   ]
  },
  {
   "cell_type": "code",
   "execution_count": 47,
   "id": "ae4c307d",
   "metadata": {},
   "outputs": [],
   "source": [
    "# Run algorithms using 10-fold cross validation\n",
    "control <- trainControl(method=\"cv\", number=10)\n",
    "metric <- \"Accuracy\""
   ]
  },
  {
   "cell_type": "markdown",
   "id": "b38675c2",
   "metadata": {},
   "source": [
    "Chúng ta đang sử dụng chỉ số “accuracy” để đánh giá các mô hình. Đây là tỷ lệ giữa số trường hợp được dự đoán chính xác chia cho tổng số trường hợp trong tập dữ liệu nhân với 100 để đưa ra tỷ lệ phần trăm (ví dụ: chính xác 95%). Chúng tôi sẽ sử dụng biến metric khi chúng tôi chạy xây dựng và đánh giá từng mô hình tiếp theo.\n",
    "\n",
    "## 5.2. Xây dựng các mô hình gói caret\n",
    "\n",
    "Với 5 thuật toán trong báo cáo, nhóm không biết thuật toán nào sẽ tốt cho vấn đề này hoặc sử dụng cấu hình nào.\n",
    "\n",
    "Xét 5 thuật toán nhóm đã trình bày trong báo cáo\n",
    "\n",
    "+ k-Nearest Neighbors (kNN).\n",
    "+ Support Vector Machines (SVM) with a linear kernel.\n",
    "+ Random Forest (RF)\n",
    "+ XGboost\n",
    "+ NavieBayes \n"
   ]
  },
  {
   "cell_type": "code",
   "execution_count": 48,
   "id": "d8cf91ea",
   "metadata": {
    "lines_to_next_cell": 2
   },
   "outputs": [],
   "source": [
    "set.seed(7)\n",
    "fit.nb <- train(Species~., data=training, method=\"nb\", metric=metric, trControl=control)\n",
    "\n",
    "# kNN\n",
    "set.seed(7)\n",
    "fit.knn <- train(Species~., data=training, method=\"knn\", metric=metric, trControl=control)\n",
    "\n",
    "# c) advanced algorithms\n",
    "# SVM\n",
    "set.seed(7)\n",
    "fit.svm <- train(Species~., data=training, method=\"svmRadial\", metric=metric, trControl=control)\n",
    "\n",
    "set.seed(7)\n",
    "fit.rf <- train(Species~., data=training, method=\"rf\", metric=metric, trControl=control)"
   ]
  },
  {
   "cell_type": "markdown",
   "id": "4a39d691",
   "metadata": {
    "lines_to_next_cell": 0
   },
   "source": [
    "## 5.1. Chọn mô hình tốt nhất"
   ]
  },
  {
   "cell_type": "code",
   "execution_count": 49,
   "id": "2485a2c1",
   "metadata": {},
   "outputs": [
    {
     "data": {
      "text/plain": [
       "\n",
       "Call:\n",
       "summary.resamples(object = results)\n",
       "\n",
       "Models: nb, knn, svm, rf \n",
       "Number of resamples: 10 \n",
       "\n",
       "Accuracy \n",
       "         Min.   1st Qu.    Median Mean 3rd Qu. Max. NA's\n",
       "nb  0.8333333 0.9166667 0.9583333 0.95       1    1    0\n",
       "knn 0.9166667 0.9166667 0.9166667 0.95       1    1    0\n",
       "svm 0.8333333 0.9166667 0.9583333 0.95       1    1    0\n",
       "rf  0.8333333 0.9166667 0.9583333 0.95       1    1    0\n",
       "\n",
       "Kappa \n",
       "     Min. 1st Qu. Median  Mean 3rd Qu. Max. NA's\n",
       "nb  0.750   0.875 0.9375 0.925       1    1    0\n",
       "knn 0.875   0.875 0.8750 0.925       1    1    0\n",
       "svm 0.750   0.875 0.9375 0.925       1    1    0\n",
       "rf  0.750   0.875 0.9375 0.925       1    1    0\n"
      ]
     },
     "metadata": {},
     "output_type": "display_data"
    }
   ],
   "source": [
    "\n",
    "#summarize accuracy of models\n",
    "results <- resamples(list(nb=fit.nb, knn=fit.knn, svm=fit.svm, rf=fit.rf))\n",
    "summary(results)"
   ]
  },
  {
   "cell_type": "code",
   "execution_count": 50,
   "id": "ff990785",
   "metadata": {},
   "outputs": [
    {
     "data": {
      "image/png": "[encoded data removed]",
      "text/plain": [
       "plot without title"
      ]
     },
     "metadata": {
      "image/png": {
       "height": 420,
       "width": 420
      }
     },
     "output_type": "display_data"
    }
   ],
   "source": [
    "# compare accuracy of models\n",
    "dotplot(results)"
   ]
  },
  {
   "cell_type": "code",
   "execution_count": 51,
   "id": "f388c473",
   "metadata": {},
   "outputs": [
    {
     "name": "stdout",
     "output_type": "stream",
     "text": [
      "k-Nearest Neighbors \n",
      "\n",
      "120 samples\n",
      "  4 predictor\n",
      "  3 classes: 'setosa', 'versicolor', 'virginica' \n",
      "\n",
      "No pre-processing\n",
      "Resampling: Cross-Validated (10 fold) \n",
      "Summary of sample sizes: 108, 108, 108, 108, 108, 108, ... \n",
      "Resampling results across tuning parameters:\n",
      "\n",
      "  k  Accuracy   Kappa \n",
      "  5  0.9500000  0.9250\n",
      "  7  0.9500000  0.9250\n",
      "  9  0.9416667  0.9125\n",
      "\n",
      "Accuracy was used to select the optimal model using the largest value.\n",
      "The final value used for the model was k = 7.\n"
     ]
    }
   ],
   "source": [
    "# summarize Best Model\n",
    "print(fit.knn)"
   ]
  },
  {
   "cell_type": "markdown",
   "id": "c4b5611d",
   "metadata": {
    "lines_to_next_cell": 0
   },
   "source": [
    "## 5.2. Tạo dự đoán từ mô hình tốt nhất"
   ]
  },
  {
   "cell_type": "code",
   "execution_count": 52,
   "id": "6f11ef6d",
   "metadata": {},
   "outputs": [
    {
     "data": {
      "text/plain": [
       "Confusion Matrix and Statistics\n",
       "\n",
       "            Reference\n",
       "Prediction   setosa versicolor virginica\n",
       "  setosa         10          0         0\n",
       "  versicolor      0         10         0\n",
       "  virginica       0          0        10\n",
       "\n",
       "Overall Statistics\n",
       "                                     \n",
       "               Accuracy : 1          \n",
       "                 95% CI : (0.8843, 1)\n",
       "    No Information Rate : 0.3333     \n",
       "    P-Value [Acc > NIR] : 4.857e-15  \n",
       "                                     \n",
       "                  Kappa : 1          \n",
       "                                     \n",
       " Mcnemar's Test P-Value : NA         \n",
       "\n",
       "Statistics by Class:\n",
       "\n",
       "                     Class: setosa Class: versicolor Class: virginica\n",
       "Sensitivity                 1.0000            1.0000           1.0000\n",
       "Specificity                 1.0000            1.0000           1.0000\n",
       "Pos Pred Value              1.0000            1.0000           1.0000\n",
       "Neg Pred Value              1.0000            1.0000           1.0000\n",
       "Prevalence                  0.3333            0.3333           0.3333\n",
       "Detection Rate              0.3333            0.3333           0.3333\n",
       "Detection Prevalence        0.3333            0.3333           0.3333\n",
       "Balanced Accuracy           1.0000            1.0000           1.0000"
      ]
     },
     "metadata": {},
     "output_type": "display_data"
    }
   ],
   "source": [
    "# estimate skill of LDA on the validation dataset\n",
    "predictions <- predict(fit.knn, validation)\n",
    "confusionMatrix(predictions, validation$Species)"
   ]
  },
  {
   "cell_type": "markdown",
   "id": "6945d5fb",
   "metadata": {
    "lines_to_next_cell": 0
   },
   "source": [
    "# 6. Thuật toán XgBoost\n",
    "## 6.1. Chuyển đối nhãn\n",
    "XGBoost yêu cầu các lớp phải ở định dạng số nguyên, bắt đầu bằng 0. Vì vậy, lớp đầu tiên phải là 0. Yếu tố Species được chuyển đổi sang định dạng số nguyên thích hợp."
   ]
  },
  {
   "cell_type": "code",
   "execution_count": 53,
   "id": "14cd2bcc",
   "metadata": {},
   "outputs": [],
   "source": [
    "# Convert the Species factor to an integer class starting at 0\n",
    "# This is picky, but it's a requirement for XGBoost\n",
    "species = dataset$Species\n",
    "label = as.integer(dataset$Species)-1\n",
    "dataset$Species = NULL"
   ]
  },
  {
   "cell_type": "markdown",
   "id": "8b3a79a1",
   "metadata": {
    "lines_to_next_cell": 0
   },
   "source": [
    "## 6.2. Chia dữ liệu training và validation (80/20)"
   ]
  },
  {
   "cell_type": "code",
   "execution_count": 54,
   "id": "73fb2092",
   "metadata": {},
   "outputs": [],
   "source": [
    "n = nrow(dataset)\n",
    "train.index = sample(n,floor(0.8*n))\n",
    "train.data = as.matrix(dataset[train.index,])\n",
    "train.label = label[train.index]\n",
    "test.data = as.matrix(dataset[-train.index,])\n",
    "test.label = label[-train.index]"
   ]
  },
  {
   "cell_type": "markdown",
   "id": "3845e407",
   "metadata": {
    "lines_to_next_cell": 0
   },
   "source": [
    "## 6.3. Tạo các đối tượng xgb.DMatrix\n",
    "Tiếp theo, chúng ta chuyển đổi tập dữ liệu đào tạo và thử nghiệm thành các đối tượng xgb.DMatrix được sử dụng để điều chỉnh mô hình XGBoost và dự đoán các kết quả mới."
   ]
  },
  {
   "cell_type": "code",
   "execution_count": 55,
   "id": "498d8f49",
   "metadata": {},
   "outputs": [],
   "source": [
    "# Transform the two data sets into xgb.Matrix\n",
    "xgb.train = xgb.DMatrix(data=train.data,label=train.label)\n",
    "xgb.test = xgb.DMatrix(data=test.data,label=test.label)"
   ]
  },
  {
   "cell_type": "markdown",
   "id": "0f60213a",
   "metadata": {
    "lines_to_next_cell": 0
   },
   "source": [
    "## 6.4. Xác định các tham số chính\n",
    "Bây giờ, đã đến lúc phác thảo các thông số của mô hình. Đối với điều này, chúng ta phải ghi nhớ rằng mục tiêu của chúng ta là phân loại nhiều lớp. Điều này sẽ được làm rõ trong tham số mục tiêu. Do đó, chúng tôi cũng sẽ phải đặt một tham số num_class và một số liệu đánh giá- được định nghĩa là “mlogloss” cho các vấn đề đa lớp."
   ]
  },
  {
   "cell_type": "code",
   "execution_count": 56,
   "id": "ff582ba5",
   "metadata": {
    "lines_to_next_cell": 0
   },
   "outputs": [
    {
     "name": "stdout",
     "output_type": "stream",
     "text": [
      "[1]\ttrain-mlogloss:1.097360+0.000063\ttest-mlogloss:1.097400+0.000089 \n",
      "[11]\ttrain-mlogloss:1.084881+0.000280\ttest-mlogloss:1.085612+0.001171 \n",
      "[21]\ttrain-mlogloss:1.072554+0.000485\ttest-mlogloss:1.073957+0.002182 \n",
      "[31]\ttrain-mlogloss:1.060415+0.000638\ttest-mlogloss:1.062346+0.003266 \n",
      "[41]\ttrain-mlogloss:1.048479+0.000780\ttest-mlogloss:1.051006+0.004419 \n",
      "[51]\ttrain-mlogloss:1.036707+0.000965\ttest-mlogloss:1.039890+0.005550 \n",
      "[61]\ttrain-mlogloss:1.025120+0.001139\ttest-mlogloss:1.028859+0.006501 \n",
      "[71]\ttrain-mlogloss:1.013738+0.001339\ttest-mlogloss:1.018169+0.007573 \n",
      "[81]\ttrain-mlogloss:1.002568+0.001489\ttest-mlogloss:1.007562+0.008583 \n",
      "[91]\ttrain-mlogloss:0.991576+0.001667\ttest-mlogloss:0.997263+0.009619 \n",
      "[100]\ttrain-mlogloss:0.981787+0.001852\ttest-mlogloss:0.988020+0.010505 \n"
     ]
    }
   ],
   "source": [
    "# Define the parameters for multinomial classification\n",
    "num_class = length(levels(species))\n",
    "params = list(\n",
    "  booster=\"gbtree\",\n",
    "  eta=0.001,\n",
    "  max_depth=5,\n",
    "  gamma=3,\n",
    "  subsample=0.75,\n",
    "  colsample_bytree=1,\n",
    "  objective=\"multi:softprob\",\n",
    "  eval_metric=\"mlogloss\",\n",
    "  num_class=num_class\n",
    ")\n",
    "\n",
    "# Calculate # of folds for cross-validation\n",
    "xgbcv <- xgb.cv(params = params, data = xgb.train, nrounds = 100, nfold = 10, showsd = TRUE, stratified = TRUE, print_every_n = 10, early_stop_round = 20, maximize = FALSE, prediction = TRUE)"
   ]
  },
  {
   "cell_type": "markdown",
   "id": "9fd08a37",
   "metadata": {},
   "source": [
    "Tham số mục tiêu multi: softprob về cơ bản cung cấp cho chúng ta một phân cụm mờ, trong đó mỗi quan sát được cung cấp một xác suất riêng biệt thuộc về mỗi lớp. Để sử dụng các xác suất này để phân loại, chúng ta sẽ phải xác định xác suất tối đa cho mỗi lần quan sát và ấn định một lớp."
   ]
  },
  {
   "cell_type": "code",
   "execution_count": 57,
   "id": "b52c2cfc",
   "metadata": {},
   "outputs": [
    {
     "data": {
      "text/html": [
       "<table class=\"dataframe\">\n",
       "<caption>A data.frame: 6 × 5</caption>\n",
       "<thead>\n",
       "\t<tr><th></th><th scope=col>X1</th><th scope=col>X2</th><th scope=col>X3</th><th scope=col>max</th><th scope=col>label</th></tr>\n",
       "\t<tr><th></th><th scope=col>&lt;dbl&gt;</th><th scope=col>&lt;dbl&gt;</th><th scope=col>&lt;dbl&gt;</th><th scope=col>&lt;int&gt;</th><th scope=col>&lt;dbl&gt;</th></tr>\n",
       "</thead>\n",
       "<tbody>\n",
       "\t<tr><th scope=row>1</th><td>0.3103096</td><td>0.3124043</td><td>0.3772861</td><td>3</td><td>3</td></tr>\n",
       "\t<tr><th scope=row>2</th><td>0.3054647</td><td>0.3693868</td><td>0.3251485</td><td>2</td><td>2</td></tr>\n",
       "\t<tr><th scope=row>3</th><td>0.3115912</td><td>0.3753518</td><td>0.3130570</td><td>2</td><td>2</td></tr>\n",
       "\t<tr><th scope=row>4</th><td>0.3101116</td><td>0.3128929</td><td>0.3769955</td><td>3</td><td>3</td></tr>\n",
       "\t<tr><th scope=row>5</th><td>0.3113815</td><td>0.3759640</td><td>0.3126545</td><td>2</td><td>2</td></tr>\n",
       "\t<tr><th scope=row>6</th><td>0.3114423</td><td>0.3753990</td><td>0.3131587</td><td>2</td><td>2</td></tr>\n",
       "</tbody>\n",
       "</table>\n"
      ],
      "text/latex": [
       "A data.frame: 6 × 5\n",
       "\\begin{tabular}{r|lllll}\n",
       "  & X1 & X2 & X3 & max & label\\\\\n",
       "  & <dbl> & <dbl> & <dbl> & <int> & <dbl>\\\\\n",
       "\\hline\n",
       "\t1 & 0.3103096 & 0.3124043 & 0.3772861 & 3 & 3\\\\\n",
       "\t2 & 0.3054647 & 0.3693868 & 0.3251485 & 2 & 2\\\\\n",
       "\t3 & 0.3115912 & 0.3753518 & 0.3130570 & 2 & 2\\\\\n",
       "\t4 & 0.3101116 & 0.3128929 & 0.3769955 & 3 & 3\\\\\n",
       "\t5 & 0.3113815 & 0.3759640 & 0.3126545 & 2 & 2\\\\\n",
       "\t6 & 0.3114423 & 0.3753990 & 0.3131587 & 2 & 2\\\\\n",
       "\\end{tabular}\n"
      ],
      "text/markdown": [
       "\n",
       "A data.frame: 6 × 5\n",
       "\n",
       "| <!--/--> | X1 &lt;dbl&gt; | X2 &lt;dbl&gt; | X3 &lt;dbl&gt; | max &lt;int&gt; | label &lt;dbl&gt; |\n",
       "|---|---|---|---|---|---|\n",
       "| 1 | 0.3103096 | 0.3124043 | 0.3772861 | 3 | 3 |\n",
       "| 2 | 0.3054647 | 0.3693868 | 0.3251485 | 2 | 2 |\n",
       "| 3 | 0.3115912 | 0.3753518 | 0.3130570 | 2 | 2 |\n",
       "| 4 | 0.3101116 | 0.3128929 | 0.3769955 | 3 | 3 |\n",
       "| 5 | 0.3113815 | 0.3759640 | 0.3126545 | 2 | 2 |\n",
       "| 6 | 0.3114423 | 0.3753990 | 0.3131587 | 2 | 2 |\n",
       "\n"
      ],
      "text/plain": [
       "  X1        X2        X3        max label\n",
       "1 0.3103096 0.3124043 0.3772861 3   3    \n",
       "2 0.3054647 0.3693868 0.3251485 2   2    \n",
       "3 0.3115912 0.3753518 0.3130570 2   2    \n",
       "4 0.3101116 0.3128929 0.3769955 3   3    \n",
       "5 0.3113815 0.3759640 0.3126545 2   2    \n",
       "6 0.3114423 0.3753990 0.3131587 2   2    "
      ]
     },
     "metadata": {},
     "output_type": "display_data"
    }
   ],
   "source": [
    "# Function to compute classification error\n",
    "classification_error <- function(conf_mat) {\n",
    "  conf_mat = as.matrix(conf_mat)\n",
    "  \n",
    "  error = 1 - sum(diag(conf_mat)) / sum(conf_mat)\n",
    "  \n",
    "  return (error)\n",
    "}\n",
    "\n",
    "# Mutate xgb output to deliver hard predictions\n",
    "xgb_train_preds <- data.frame(xgbcv$pred) %>% mutate(max = max.col(., ties.method = \"last\"), label = train.label + 1)\n",
    "\n",
    "# Examine output\n",
    "head(xgb_train_preds)"
   ]
  },
  {
   "cell_type": "code",
   "execution_count": 58,
   "id": "d0d31373",
   "metadata": {},
   "outputs": [
    {
     "name": "stdout",
     "output_type": "stream",
     "text": [
      "XGB Training Classification Error Rate: 0.075 \n"
     ]
    }
   ],
   "source": [
    "# Confustion Matrix\n",
    "xgb_conf_mat <- table(true = train.label + 1, pred = xgb_train_preds$max)\n",
    "\n",
    "# Error \n",
    "cat(\"XGB Training Classification Error Rate:\", classification_error(xgb_conf_mat), \"\\n\")"
   ]
  },
  {
   "cell_type": "code",
   "execution_count": 59,
   "id": "946ce485",
   "metadata": {
    "lines_to_next_cell": 0
   },
   "outputs": [
    {
     "name": "stdout",
     "output_type": "stream",
     "text": [
      "Confusion Matrix and Statistics\n",
      "\n",
      "          Reference\n",
      "Prediction  1  2  3\n",
      "         1 38  0  0\n",
      "         2  0 35  4\n",
      "         3  0  5 38\n",
      "\n",
      "Overall Statistics\n",
      "                                          \n",
      "               Accuracy : 0.925           \n",
      "                 95% CI : (0.8624, 0.9651)\n",
      "    No Information Rate : 0.35            \n",
      "    P-Value [Acc > NIR] : < 2.2e-16       \n",
      "                                          \n",
      "                  Kappa : 0.8874          \n",
      "                                          \n",
      " Mcnemar's Test P-Value : NA              \n",
      "\n",
      "Statistics by Class:\n",
      "\n",
      "                     Class: 1 Class: 2 Class: 3\n",
      "Sensitivity            1.0000   0.8750   0.9048\n",
      "Specificity            1.0000   0.9500   0.9359\n",
      "Pos Pred Value         1.0000   0.8974   0.8837\n",
      "Neg Pred Value         1.0000   0.9383   0.9481\n",
      "Precision              1.0000   0.8974   0.8837\n",
      "Recall                 1.0000   0.8750   0.9048\n",
      "F1                     1.0000   0.8861   0.8941\n",
      "Prevalence             0.3167   0.3333   0.3500\n",
      "Detection Rate         0.3167   0.2917   0.3167\n",
      "Detection Prevalence   0.3167   0.3250   0.3583\n",
      "Balanced Accuracy      1.0000   0.9125   0.9203\n"
     ]
    }
   ],
   "source": [
    "# Automated confusion matrix using \"caret\"\n",
    "xgb_conf_mat_2 <- confusionMatrix(factor(xgb_train_preds$label),\n",
    "                                  factor(xgb_train_preds$max),\n",
    "                                  mode = \"everything\")\n",
    "\n",
    "print(xgb_conf_mat_2)"
   ]
  },
  {
   "cell_type": "markdown",
   "id": "45a91ec5",
   "metadata": {},
   "source": [
    "Bây giờ chúng ta hãy xem nó hoạt động như thế nào trên bộ xác thực."
   ]
  },
  {
   "cell_type": "code",
   "execution_count": 60,
   "id": "883ccf6e",
   "metadata": {
    "lines_to_next_cell": 2
   },
   "outputs": [
    {
     "name": "stdout",
     "output_type": "stream",
     "text": [
      "XGB Validation Classification Error Rate: 0.03333333 \n"
     ]
    }
   ],
   "source": [
    "# Create the model\n",
    "xgb_model <- xgb.train(params = params, data = xgb.train, nrounds = 100)\n",
    "\n",
    "# Predict for validation set\n",
    "xgb_val_preds <- predict(xgb_model, newdata = xgb.test)\n",
    "\n",
    "xgb_val_out <- matrix(xgb_val_preds, nrow = 3, ncol = length(xgb_val_preds) / 3) %>% \n",
    "               t() %>%\n",
    "               data.frame() %>%\n",
    "               mutate(max = max.col(., ties.method = \"last\"), label = test.label + 1) \n",
    "\n",
    "# Confustion Matrix\n",
    "xgb_val_conf <- table(true = test.label + 1, pred = xgb_val_out$max)\n",
    "\n",
    "cat(\"XGB Validation Classification Error Rate:\", classification_error(xgb_val_conf), \"\\n\")"
   ]
  },
  {
   "cell_type": "code",
   "execution_count": 61,
   "id": "bd01058d",
   "metadata": {},
   "outputs": [
    {
     "name": "stdout",
     "output_type": "stream",
     "text": [
      "Confusion Matrix and Statistics\n",
      "\n",
      "          Reference\n",
      "Prediction  1  2  3\n",
      "         1 12  0  0\n",
      "         2  0 10  1\n",
      "         3  0  0  7\n",
      "\n",
      "Overall Statistics\n",
      "                                          \n",
      "               Accuracy : 0.9667          \n",
      "                 95% CI : (0.8278, 0.9992)\n",
      "    No Information Rate : 0.4             \n",
      "    P-Value [Acc > NIR] : 5.303e-11       \n",
      "                                          \n",
      "                  Kappa : 0.9492          \n",
      "                                          \n",
      " Mcnemar's Test P-Value : NA              \n",
      "\n",
      "Statistics by Class:\n",
      "\n",
      "                     Class: 1 Class: 2 Class: 3\n",
      "Sensitivity               1.0   1.0000   0.8750\n",
      "Specificity               1.0   0.9500   1.0000\n",
      "Pos Pred Value            1.0   0.9091   1.0000\n",
      "Neg Pred Value            1.0   1.0000   0.9565\n",
      "Precision                 1.0   0.9091   1.0000\n",
      "Recall                    1.0   1.0000   0.8750\n",
      "F1                        1.0   0.9524   0.9333\n",
      "Prevalence                0.4   0.3333   0.2667\n",
      "Detection Rate            0.4   0.3333   0.2333\n",
      "Detection Prevalence      0.4   0.3667   0.2333\n",
      "Balanced Accuracy         1.0   0.9750   0.9375\n"
     ]
    }
   ],
   "source": [
    "# Automated confusion matrix using \"caret\"\n",
    "xgb_val_conf2 <- confusionMatrix(factor(xgb_val_out$label),\n",
    "                                 factor(xgb_val_out$max),\n",
    "                                 mode = \"everything\")\n",
    "\n",
    "print(xgb_val_conf2)"
   ]
  }
 ],
 "metadata": {
  "jupytext": {
   "cell_metadata_filter": "warning,name,tags,message,-all",
   "main_language": "R",
   "notebook_metadata_filter": "-all"
  },
  "kernelspec": {
   "display_name": "R",
   "language": "R",
   "name": "ir"
  },
  "language_info": {
   "codemirror_mode": "r",
   "file_extension": ".r",
   "mimetype": "text/x-r-source",
   "name": "R",
   "pygments_lexer": "r",
   "version": "4.1.3"
  }
 },
 "nbformat": 4,
 "nbformat_minor": 5
}
