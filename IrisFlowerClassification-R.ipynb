{
 "cells": [
  {
   "cell_type": "raw",
   "id": "34a4f81a",
   "metadata": {
    "lines_to_next_cell": 0
   },
   "source": [
    "---\n",
    "title: \"CS313-Demo sử dụng R và Triển khai một số thuật toán\"\n",
    "author: \"Nhóm A2\"\n",
    "date: \"3/19/2022\"\n",
    "output: html_document\n",
    "---"
   ]
  },
  {
   "cell_type": "code",
   "execution_count": null,
   "id": "26af82e7",
   "metadata": {
    "name": "setup",
    "tags": [
     "remove_cell"
    ]
   },
   "outputs": [],
   "source": [
    "#knitr::opts_chunk$set(echo = TRUE)"
   ]
  },
  {
   "cell_type": "markdown",
   "id": "b4cdaa62",
   "metadata": {
    "lines_to_next_cell": 0
   },
   "source": [
    "# 1. Cài đặt các gói cần thiết"
   ]
  },
  {
   "cell_type": "code",
   "execution_count": null,
   "id": "7d098705",
   "metadata": {
    "message": false,
    "warning": false
   },
   "outputs": [],
   "source": [
    "# List of packages for session\n",
    ".packages = c(\"randomForest\", \"e1071\", \"ggplot2\", \"klaR\", \"xgboost\", \"magrittr\", \"dplyr\")\n",
    "\n",
    "# Install CRAN packages (if not already installed)\n",
    ".inst <- .packages %in% installed.packages()\n",
    "if(length(.packages[!.inst]) > 0) install.packages(.packages[!.inst], repos = \"https://cran.rstudio.com\")\n",
    "\n",
    "# Load packages into session \n",
    "lapply(.packages, require, character.only=TRUE)\n",
    "\n",
    "library(caret)\n",
    "library(randomForest)\n",
    "library(e1071)\n",
    "library(klaR)\n",
    "library(xgboost)\n",
    "library(dplyr)\n",
    "library(magrittr)"
   ]
  },
  {
   "cell_type": "markdown",
   "id": "7b55ded0",
   "metadata": {
    "lines_to_next_cell": 0
   },
   "source": [
    "# 2 .Tải data\n",
    "\n",
    "Sử dụng tập dữ liệu iris để thực hiện bài toán phân loại với các thuật toán được đề cập trong bài báo cáo."
   ]
  },
  {
   "cell_type": "code",
   "execution_count": null,
   "id": "a9563855",
   "metadata": {
    "lines_to_next_cell": 2
   },
   "outputs": [],
   "source": [
    "# đính kèm tập dữ liệu iris từ môi trường\n",
    "data(iris)\n",
    "# đổi tên dataset\n",
    "dataset <- iris"
   ]
  },
  {
   "cell_type": "markdown",
   "id": "bcac0b81",
   "metadata": {},
   "source": [
    "## 2.1. Tạo tập dữ liệu Validation\n",
    "\n",
    "Ở đây, chúng ta sẽ chia tập dữ liệu thành 2 phần là: \\\n",
    "\n",
    "+ 80% dữ liệu training mô hình \\\n",
    "+ 20% dữ liệu validation để phục vụ việc đánh giá mô hình"
   ]
  },
  {
   "cell_type": "code",
   "execution_count": null,
   "id": "f6cbd8f3",
   "metadata": {},
   "outputs": [],
   "source": [
    "# tạo danh sách 80% các hàng trong tập dữ liệu ban để training  \n",
    "validation_index <- createDataPartition(dataset$Species, p=0.80, list=FALSE)\n",
    "\n",
    "# Chọn 20% dữ liệu cho tâp validation\n",
    "validation <- dataset[-validation_index,]\n",
    "\n",
    "# sử dụng 80% dữ liệu cho training và testing\n",
    "training <- dataset[validation_index,]"
   ]
  },
  {
   "cell_type": "markdown",
   "id": "87d2f052",
   "metadata": {
    "lines_to_next_cell": 0
   },
   "source": [
    "# 3. Tóm tắt Dataset\n",
    "Trong bước này, chúng ta sẽ xem xét dữ liệu theo một số cách khác nhau: \\\n",
    "\n",
    "+ Kích thước của tập dữ liệu.\\\n",
    "+ Các loại thuộc tính.\\\n",
    "+ Nhìn vào chính dữ liệu.\\\n",
    "+ Các cấp độ của thuộc tính lớp.\\\n",
    "+ Phân tích các cá thể trong mỗi lớp.\\\n",
    "+ Tóm tắt thống kê của tất cả các thuộc tính.\n",
    "\n",
    "## 3.1. Kích thước của dữ liệu"
   ]
  },
  {
   "cell_type": "code",
   "execution_count": null,
   "id": "5ea57a22",
   "metadata": {
    "lines_to_next_cell": 0
   },
   "outputs": [],
   "source": [
    "dim(training)"
   ]
  },
  {
   "cell_type": "markdown",
   "id": "1678c3fb",
   "metadata": {
    "lines_to_next_cell": 0
   },
   "source": [
    "Có 120 record (hàng) và 5 thuộc tính (cột)\n",
    "\n",
    "## 3.2. Các loại của thuộc tính"
   ]
  },
  {
   "cell_type": "code",
   "execution_count": null,
   "id": "3eefab1d",
   "metadata": {},
   "outputs": [],
   "source": [
    "# list types for each attribute\n",
    "sapply(training, class)"
   ]
  },
  {
   "cell_type": "markdown",
   "id": "6761e85f",
   "metadata": {},
   "source": [
    "## 3.4. Xem qua dữ liệu\n",
    "\n",
    "5 hàng đầu tiên của dữ liệu"
   ]
  },
  {
   "cell_type": "code",
   "execution_count": null,
   "id": "8a8e3ecc",
   "metadata": {},
   "outputs": [],
   "source": [
    "# xem qua 5 hàng đầu tiên của dữ liệu\n",
    "head(training)"
   ]
  },
  {
   "cell_type": "markdown",
   "id": "767723c5",
   "metadata": {
    "lines_to_next_cell": 0
   },
   "source": [
    "## 3.5. Các cấp độ của Class"
   ]
  },
  {
   "cell_type": "code",
   "execution_count": null,
   "id": "aa9cdf7d",
   "metadata": {
    "lines_to_next_cell": 0
   },
   "outputs": [],
   "source": [
    "# danh sách các lớp\n",
    "levels(training$Species)"
   ]
  },
  {
   "cell_type": "markdown",
   "id": "1582e29e",
   "metadata": {
    "lines_to_next_cell": 0
   },
   "source": [
    "Như ta thấy, ta có 3 lớp trong tập dữ liệu Iris này\n",
    "\n",
    "## 3.6. Phân phối dữ liệu theo lớp"
   ]
  },
  {
   "cell_type": "code",
   "execution_count": null,
   "id": "fa9f8a3a",
   "metadata": {
    "lines_to_next_cell": 0
   },
   "outputs": [],
   "source": [
    "\n",
    "# Tối tắt phân phối dữ liệu theo lớp\n",
    "percentage <- prop.table(table(training$Species)) * 100\n",
    "cbind(freq=table(training$Species), percentage=percentage)"
   ]
  },
  {
   "cell_type": "markdown",
   "id": "a9216efd",
   "metadata": {
    "lines_to_next_cell": 0
   },
   "source": [
    "Chúng ta có thể thấy rằng mỗi lớp có cùng số lượng các trường hợp (40 hoặc 33% tập dữ liệu)\n",
    "\n",
    "## 3.7. Thống kế tóm tắt\n",
    "Bây giờ cuối cùng, chúng ta có thể xem qua bản tóm tắt của từng thuộc tính.\\ \n",
    "\n",
    "Điều này bao gồm giá trị trung bình, giá trị tối thiểu và tối đa cũng như một số phân vị phần trăm (giá trị thứ 25, 50 hoặc phương tiện và 75, ví dụ: tại các điểm này nếu chúng ta đã sắp xếp tất cả các giá trị cho một thuộc tính)."
   ]
  },
  {
   "cell_type": "code",
   "execution_count": null,
   "id": "ddc700dd",
   "metadata": {
    "lines_to_next_cell": 0
   },
   "outputs": [],
   "source": [
    "# summarize attribute distributions\n",
    "summary(training)"
   ]
  },
  {
   "cell_type": "markdown",
   "id": "a2b141d1",
   "metadata": {
    "lines_to_next_cell": 0
   },
   "source": [
    "Chúng ta có thể thấy rằng tất cả các giá trị số có cùng tỷ lệ (cm) và phạm vi tương tự [0,8] cm.\n",
    "\n",
    "# 4. Trực quan tập dữ liệu\n",
    "\n",
    "Chúng ta sẽ xem xét dữ liệu bằng hai loại biểu đồ:\\\n",
    "\n",
    "1. Biểu đồ đơn biến để hiểu rõ hơn về từng thuộc tính\\\n",
    "2. Biểu đồ đa biến để hiểu rõ hơn về mối quan hệ của các thuộc tính với nhau.\n",
    "\n",
    "## 4.1. Biểu đồ đơn biến"
   ]
  },
  {
   "cell_type": "code",
   "execution_count": null,
   "id": "460f3b05",
   "metadata": {},
   "outputs": [],
   "source": [
    "# chia đầu vào và đầu ra tập train\n",
    "x <- training[,1:4]\n",
    "y <- training[,5]\n",
    "\n",
    "# chia đầu vào và đầu ra tập validation\n",
    "x_val <- validation[,1:4]\n",
    "y_val <- validation[,5]"
   ]
  },
  {
   "cell_type": "code",
   "execution_count": null,
   "id": "a3f96a62",
   "metadata": {},
   "outputs": [],
   "source": [
    "par(mfrow=c(1,4))\n",
    "  for(i in 1:4) {\n",
    "  boxplot(x[,i], main=names(iris)[i])\n",
    "}"
   ]
  },
  {
   "cell_type": "markdown",
   "id": "7a265825",
   "metadata": {
    "lines_to_next_cell": 0
   },
   "source": [
    "## 4.2. Biểu đồ đa biến\n",
    "\n",
    "<!-- # ```{r} -->\n",
    "<!-- # install.packages(\"ellipse\") -->\n",
    "<!-- # ``` -->\n",
    "\n",
    "Đầu tiên, hãy xem biểu đồ phân tán của tất cả các cặp thuộc tính và tô màu các điểm theo lớp. Ngoài ra, bởi vì biểu đồ phân tán cho thấy rằng các điểm cho mỗi lớp nói chung là riêng biệt, chúng ta có thể vẽ các hình elip xung quanh chúng."
   ]
  },
  {
   "cell_type": "code",
   "execution_count": null,
   "id": "cc273412",
   "metadata": {
    "lines_to_next_cell": 0
   },
   "outputs": [],
   "source": [
    "# ma trận biểu đồ phân tán\n",
    "featurePlot(x=x, y=y, plot=\"ellipse\")"
   ]
  },
  {
   "cell_type": "markdown",
   "id": "913f1102",
   "metadata": {},
   "source": [
    "Chúng ta có thể thấy một số mối quan hệ rõ ràng giữa các thuộc tính đầu vào (xu hướng) và giữa các thuộc tính và giá trị lớp (dấu chấm lửng)\n",
    "\n",
    "Chúng ta cũng có thể xem xét lại các ô hình hộp và ô râu của từng biến đầu vào, nhưng lần này được chia thành các ô riêng biệt cho từng lớp. Điều này có thể giúp tạo ra sự phân cách tuyến tính rõ ràng giữa các lớp.\n",
    "\\Điều này rất hữu ích để thấy rằng có sự phân phối rõ ràng khác nhau của các thuộc tính cho mỗi giá trị lớp.        "
   ]
  },
  {
   "cell_type": "code",
   "execution_count": null,
   "id": "79c29ee1",
   "metadata": {},
   "outputs": [],
   "source": [
    "# đồ thị hộp và whisker cho mỗi thuộc tính\n",
    "featurePlot(x=x, y=y, plot=\"box\")"
   ]
  },
  {
   "cell_type": "markdown",
   "id": "82d89c6f",
   "metadata": {
    "lines_to_next_cell": 0
   },
   "source": [
    "Tiếp theo, chúng ta có thể có được ý tưởng về sự phân bố của từng thuộc tính, một lần nữa giống như đồ thị hộp và whisker, được chia nhỏ theo giá trị lớp. Đôi khi biểu đồ là tốt cho điều này, nhưng trong trường hợp này, chúng tôi sẽ sử dụng một số biểu đồ mật độ xác suất để cung cấp các đường trơn đẹp cho mỗi phân phối."
   ]
  },
  {
   "cell_type": "code",
   "execution_count": null,
   "id": "7cac5f75",
   "metadata": {
    "lines_to_next_cell": 0
   },
   "outputs": [],
   "source": [
    "\n",
    "# đồ thị mật độ cho từng thuộc tính theo giá trị lớp\n",
    "scales <- list(x=list(relation=\"free\"), y=list(relation=\"free\"))\n",
    "featurePlot(x=x, y=y, plot=\"density\", scales=scales)"
   ]
  },
  {
   "cell_type": "markdown",
   "id": "4ef0e2f2",
   "metadata": {},
   "source": [
    "Giống như các ô hộp, chúng ta có thể thấy sự khác biệt trong phân phối của từng thuộc tính theo giá trị lớp. Chúng ta cũng có thể thấy sự phân bố giống như Gaussian (đường cong hình chuông) của mỗi thuộc tính\n",
    "\n",
    "# 5. Đánh giá một số thuật toán\n",
    "\n",
    "Bây giờ đã đến lúc tạo một số mô hình dữ liệu các thuật toán được trình bày trong báo cáo và ước tính độ chính xác của chúng trên dữ liệu validation\n",
    "\n",
    "Đây là những gì chúng ta sẽ đề cập trong bước này:\n",
    "\n",
    "1. Thiết lập dây kiểm tra để sử dụng xác nhận chéo 10 lần.\n",
    "2. Xây dựng 5 mô hình khác nhau để dự đoán các loài từ các phép đo hoa\n",
    "3. Chọn mô hình tốt nhất.\n",
    "\n",
    "## 5.1. Cài đặt thử nghiệm\n",
    "\n",
    "Chúng ta sẽ xác thực chéo 10 lần để ước tính độ chính xác.\n",
    "\n",
    "Điều này sẽ chia bộ dữ liệu của chúng tôi thành 10 phần, đào tạo trong 9 và kiểm tra trên 1 và phát hành cho tất cả các kết hợp phân tách kiểm tra đào tạo. Chúng tôi cũng sẽ lặp lại quy trình này 3 lần cho mỗi thuật toán với các phần dữ liệu khác nhau được chia thành 10 nhóm, nhằm cố gắng có được ước tính chính xác hơn."
   ]
  },
  {
   "cell_type": "code",
   "execution_count": null,
   "id": "ae4c307d",
   "metadata": {},
   "outputs": [],
   "source": [
    "# Run algorithms using 10-fold cross validation\n",
    "control <- trainControl(method=\"cv\", number=10)\n",
    "metric <- \"Accuracy\""
   ]
  },
  {
   "cell_type": "markdown",
   "id": "b38675c2",
   "metadata": {},
   "source": [
    "Chúng ta đang sử dụng chỉ số “accuracy” để đánh giá các mô hình. Đây là tỷ lệ giữa số trường hợp được dự đoán chính xác chia cho tổng số trường hợp trong tập dữ liệu nhân với 100 để đưa ra tỷ lệ phần trăm (ví dụ: chính xác 95%). Chúng tôi sẽ sử dụng biến metric khi chúng tôi chạy xây dựng và đánh giá từng mô hình tiếp theo.\n",
    "\n",
    "## 5.2. Xây dựng các mô hình gói caret\n",
    "\n",
    "Với 5 thuật toán trong báo cáo, nhóm không biết thuật toán nào sẽ tốt cho vấn đề này hoặc sử dụng cấu hình nào.\n",
    "\n",
    "Xét 5 thuật toán nhóm đã trình bày trong báo cáo\n",
    "\n",
    "+ k-Nearest Neighbors (kNN).\n",
    "+ Support Vector Machines (SVM) with a linear kernel.\n",
    "+ Random Forest (RF)\n",
    "+ XGboost\n",
    "+ NavieBayes \n"
   ]
  },
  {
   "cell_type": "code",
   "execution_count": null,
   "id": "d8cf91ea",
   "metadata": {
    "lines_to_next_cell": 2
   },
   "outputs": [],
   "source": [
    "set.seed(7)\n",
    "fit.nb <- train(Species~., data=training, method=\"nb\", metric=metric, trControl=control)\n",
    "\n",
    "# kNN\n",
    "set.seed(7)\n",
    "fit.knn <- train(Species~., data=training, method=\"knn\", metric=metric, trControl=control)\n",
    "\n",
    "# c) advanced algorithms\n",
    "# SVM\n",
    "set.seed(7)\n",
    "fit.svm <- train(Species~., data=training, method=\"svmRadial\", metric=metric, trControl=control)\n",
    "\n",
    "set.seed(7)\n",
    "fit.rf <- train(Species~., data=training, method=\"rf\", metric=metric, trControl=control)"
   ]
  },
  {
   "cell_type": "markdown",
   "id": "4a39d691",
   "metadata": {
    "lines_to_next_cell": 0
   },
   "source": [
    "## 5.1. Chọn mô hình tốt nhất"
   ]
  },
  {
   "cell_type": "code",
   "execution_count": null,
   "id": "2485a2c1",
   "metadata": {},
   "outputs": [],
   "source": [
    "\n",
    "#summarize accuracy of models\n",
    "results <- resamples(list(nb=fit.nb, knn=fit.knn, svm=fit.svm, rf=fit.rf))\n",
    "summary(results)"
   ]
  },
  {
   "cell_type": "code",
   "execution_count": null,
   "id": "ff990785",
   "metadata": {},
   "outputs": [],
   "source": [
    "# compare accuracy of models\n",
    "dotplot(results)"
   ]
  },
  {
   "cell_type": "code",
   "execution_count": null,
   "id": "f388c473",
   "metadata": {},
   "outputs": [],
   "source": [
    "# summarize Best Model\n",
    "print(fit.knn)"
   ]
  },
  {
   "cell_type": "markdown",
   "id": "c4b5611d",
   "metadata": {
    "lines_to_next_cell": 0
   },
   "source": [
    "## 5.2. Tạo dự đoán từ mô hình tốt nhất"
   ]
  },
  {
   "cell_type": "code",
   "execution_count": null,
   "id": "6f11ef6d",
   "metadata": {},
   "outputs": [],
   "source": [
    "# estimate skill of LDA on the validation dataset\n",
    "predictions <- predict(fit.knn, validation)\n",
    "confusionMatrix(predictions, validation$Species)"
   ]
  },
  {
   "cell_type": "markdown",
   "id": "6945d5fb",
   "metadata": {
    "lines_to_next_cell": 0
   },
   "source": [
    "# 6. Thuật toán XgBoost\n",
    "## 6.1. Chuyển đối nhãn\n",
    "XGBoost yêu cầu các lớp phải ở định dạng số nguyên, bắt đầu bằng 0. Vì vậy, lớp đầu tiên phải là 0. Yếu tố Species được chuyển đổi sang định dạng số nguyên thích hợp."
   ]
  },
  {
   "cell_type": "code",
   "execution_count": null,
   "id": "14cd2bcc",
   "metadata": {},
   "outputs": [],
   "source": [
    "# Convert the Species factor to an integer class starting at 0\n",
    "# This is picky, but it's a requirement for XGBoost\n",
    "species = dataset$Species\n",
    "label = as.integer(dataset$Species)-1\n",
    "dataset$Species = NULL"
   ]
  },
  {
   "cell_type": "markdown",
   "id": "8b3a79a1",
   "metadata": {
    "lines_to_next_cell": 0
   },
   "source": [
    "## 6.2. Chia dữ liệu training và validation (80/20)"
   ]
  },
  {
   "cell_type": "code",
   "execution_count": null,
   "id": "73fb2092",
   "metadata": {},
   "outputs": [],
   "source": [
    "n = nrow(dataset)\n",
    "train.index = sample(n,floor(0.8*n))\n",
    "train.data = as.matrix(dataset[train.index,])\n",
    "train.label = label[train.index]\n",
    "test.data = as.matrix(dataset[-train.index,])\n",
    "test.label = label[-train.index]"
   ]
  },
  {
   "cell_type": "markdown",
   "id": "3845e407",
   "metadata": {
    "lines_to_next_cell": 0
   },
   "source": [
    "## 6.3. Tạo các đối tượng xgb.DMatrix\n",
    "Tiếp theo, chúng ta chuyển đổi tập dữ liệu đào tạo và thử nghiệm thành các đối tượng xgb.DMatrix được sử dụng để điều chỉnh mô hình XGBoost và dự đoán các kết quả mới."
   ]
  },
  {
   "cell_type": "code",
   "execution_count": null,
   "id": "498d8f49",
   "metadata": {},
   "outputs": [],
   "source": [
    "# Transform the two data sets into xgb.Matrix\n",
    "xgb.train = xgb.DMatrix(data=train.data,label=train.label)\n",
    "xgb.test = xgb.DMatrix(data=test.data,label=test.label)"
   ]
  },
  {
   "cell_type": "markdown",
   "id": "0f60213a",
   "metadata": {
    "lines_to_next_cell": 0
   },
   "source": [
    "## 6.4. Xác định các tham số chính\n",
    "Bây giờ, đã đến lúc phác thảo các thông số của mô hình. Đối với điều này, chúng ta phải ghi nhớ rằng mục tiêu của chúng ta là phân loại nhiều lớp. Điều này sẽ được làm rõ trong tham số mục tiêu. Do đó, chúng tôi cũng sẽ phải đặt một tham số num_class và một số liệu đánh giá- được định nghĩa là “mlogloss” cho các vấn đề đa lớp."
   ]
  },
  {
   "cell_type": "code",
   "execution_count": null,
   "id": "ff582ba5",
   "metadata": {
    "lines_to_next_cell": 0
   },
   "outputs": [],
   "source": [
    "# Define the parameters for multinomial classification\n",
    "num_class = length(levels(species))\n",
    "params = list(\n",
    "  booster=\"gbtree\",\n",
    "  eta=0.001,\n",
    "  max_depth=5,\n",
    "  gamma=3,\n",
    "  subsample=0.75,\n",
    "  colsample_bytree=1,\n",
    "  objective=\"multi:softprob\",\n",
    "  eval_metric=\"mlogloss\",\n",
    "  num_class=num_class\n",
    ")\n",
    "\n",
    "# Calculate # of folds for cross-validation\n",
    "xgbcv <- xgb.cv(params = params, data = xgb.train, nrounds = 100, nfold = 10, showsd = TRUE, stratified = TRUE, print_every_n = 10, early_stop_round = 20, maximize = FALSE, prediction = TRUE)"
   ]
  },
  {
   "cell_type": "markdown",
   "id": "9fd08a37",
   "metadata": {},
   "source": [
    "Tham số mục tiêu multi: softprob về cơ bản cung cấp cho chúng ta một phân cụm mờ, trong đó mỗi quan sát được cung cấp một xác suất riêng biệt thuộc về mỗi lớp. Để sử dụng các xác suất này để phân loại, chúng ta sẽ phải xác định xác suất tối đa cho mỗi lần quan sát và ấn định một lớp."
   ]
  },
  {
   "cell_type": "code",
   "execution_count": null,
   "id": "b52c2cfc",
   "metadata": {},
   "outputs": [],
   "source": [
    "# Function to compute classification error\n",
    "classification_error <- function(conf_mat) {\n",
    "  conf_mat = as.matrix(conf_mat)\n",
    "  \n",
    "  error = 1 - sum(diag(conf_mat)) / sum(conf_mat)\n",
    "  \n",
    "  return (error)\n",
    "}\n",
    "\n",
    "# Mutate xgb output to deliver hard predictions\n",
    "xgb_train_preds <- data.frame(xgbcv$pred) %>% mutate(max = max.col(., ties.method = \"last\"), label = train.label + 1)\n",
    "\n",
    "# Examine output\n",
    "head(xgb_train_preds)"
   ]
  },
  {
   "cell_type": "code",
   "execution_count": null,
   "id": "d0d31373",
   "metadata": {},
   "outputs": [],
   "source": [
    "# Confustion Matrix\n",
    "xgb_conf_mat <- table(true = train.label + 1, pred = xgb_train_preds$max)\n",
    "\n",
    "# Error \n",
    "cat(\"XGB Training Classification Error Rate:\", classification_error(xgb_conf_mat), \"\\n\")"
   ]
  },
  {
   "cell_type": "code",
   "execution_count": null,
   "id": "946ce485",
   "metadata": {
    "lines_to_next_cell": 0
   },
   "outputs": [],
   "source": [
    "# Automated confusion matrix using \"caret\"\n",
    "xgb_conf_mat_2 <- confusionMatrix(factor(xgb_train_preds$label),\n",
    "                                  factor(xgb_train_preds$max),\n",
    "                                  mode = \"everything\")\n",
    "\n",
    "print(xgb_conf_mat_2)"
   ]
  },
  {
   "cell_type": "markdown",
   "id": "45a91ec5",
   "metadata": {},
   "source": [
    "Bây giờ chúng ta hãy xem nó hoạt động như thế nào trên bộ xác thực."
   ]
  },
  {
   "cell_type": "code",
   "execution_count": null,
   "id": "883ccf6e",
   "metadata": {
    "lines_to_next_cell": 2
   },
   "outputs": [],
   "source": [
    "# Create the model\n",
    "xgb_model <- xgb.train(params = params, data = xgb.train, nrounds = 100)\n",
    "\n",
    "# Predict for validation set\n",
    "xgb_val_preds <- predict(xgb_model, newdata = xgb.test)\n",
    "\n",
    "xgb_val_out <- matrix(xgb_val_preds, nrow = 3, ncol = length(xgb_val_preds) / 3) %>% \n",
    "               t() %>%\n",
    "               data.frame() %>%\n",
    "               mutate(max = max.col(., ties.method = \"last\"), label = test.label + 1) \n",
    "\n",
    "# Confustion Matrix\n",
    "xgb_val_conf <- table(true = test.label + 1, pred = xgb_val_out$max)\n",
    "\n",
    "cat(\"XGB Validation Classification Error Rate:\", classification_error(xgb_val_conf), \"\\n\")"
   ]
  },
  {
   "cell_type": "code",
   "execution_count": null,
   "id": "bd01058d",
   "metadata": {},
   "outputs": [],
   "source": [
    "# Automated confusion matrix using \"caret\"\n",
    "xgb_val_conf2 <- confusionMatrix(factor(xgb_val_out$label),\n",
    "                                 factor(xgb_val_out$max),\n",
    "                                 mode = \"everything\")\n",
    "\n",
    "print(xgb_val_conf2)"
   ]
  }
 ],
 "metadata": {
  "jupytext": {
   "cell_metadata_filter": "warning,name,tags,message,-all",
   "main_language": "R",
   "notebook_metadata_filter": "-all"
  }
 },
 "nbformat": 4,
 "nbformat_minor": 5
}
